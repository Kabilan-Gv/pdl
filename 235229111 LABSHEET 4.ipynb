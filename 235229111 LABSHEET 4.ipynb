{
 "cells": [
  {
   "cell_type": "raw",
   "id": "0502e00d",
   "metadata": {},
   "source": [
    "NAME: KABILAN G\n",
    "ROLL NO: 235229111\n",
    "LABSHEET:6"
   ]
  },
  {
   "cell_type": "raw",
   "id": "400daaee",
   "metadata": {},
   "source": [
    "Question1. Write a program to implement MAP function. Find the square root of a list of\n",
    "numbers [1, 2, 4, 6] using map and sqrt functions. Check the answer against your user\n",
    "defined function mymap()."
   ]
  },
  {
   "cell_type": "code",
   "execution_count": 7,
   "id": "7176b404",
   "metadata": {},
   "outputs": [
    {
     "name": "stdout",
     "output_type": "stream",
     "text": [
      "[1.0, 1.4142135623730951, 2.0, 2.449489742783178]\n"
     ]
    }
   ],
   "source": [
    "def mymap():   \n",
    "    def square(n):\n",
    "        return n**(1/2)\n",
    "    my_list = [1,2,4,6]\n",
    "    updated_list = map(square, my_list)\n",
    "    print(list(updated_list))\n",
    "mymap()"
   ]
  },
  {
   "cell_type": "raw",
   "id": "bb5122f4",
   "metadata": {},
   "source": [
    "Question2. Write a program to implement FILTER function. Filter all upper case letters in a\n",
    "list ['x', 'Y', '2', '3', 'Z', ‘b’] using filter function. Check the answer against your user define\n",
    "function myfilter()."
   ]
  },
  {
   "cell_type": "code",
   "execution_count": 5,
   "id": "a587bf90",
   "metadata": {
    "scrolled": true
   },
   "outputs": [
    {
     "name": "stdout",
     "output_type": "stream",
     "text": [
      "['X', 'Y', 'Z', 'B']\n"
     ]
    }
   ],
   "source": [
    "def myfilter(char):\n",
    "    return char.isupper()\n",
    "a= ['X', 'Y', '2', '3', 'Z', 'B']\n",
    "result = list(filter(myfilter,a))\n",
    "print(result)"
   ]
  },
  {
   "cell_type": "raw",
   "id": "96e77827",
   "metadata": {},
   "source": [
    "Question3. Write a program to create a lambda function that takes two characters and\n",
    "concatenates them. Now, apply this function inside REDUCE function that will reduce the list\n",
    "of characters [‘a’, ‘b’, ‘c’, d’] with the intial value ‘x’."
   ]
  },
  {
   "cell_type": "code",
   "execution_count": 16,
   "id": "102e8e69",
   "metadata": {},
   "outputs": [
    {
     "name": "stdout",
     "output_type": "stream",
     "text": [
      "Result ('x', ['a', 'b', 'c', 'd'])\n",
      "Result ('x', ['a', 'b', 'c', 'd'])\n"
     ]
    }
   ],
   "source": [
    "from functools import reduce\n",
    "concatenate=lambda l,m:l+m\n",
    "list1 = ['a','b','c','d']\n",
    "initialvalue='x'\n",
    "result=(initialvalue,list1)\n",
    "print(\"Result\",result)"
   ]
  },
  {
   "cell_type": "raw",
   "id": "9fc13421",
   "metadata": {},
   "source": [
    "Question4. Imagine an accounting routine used in a book shop. It works on a list with\n",
    "sublists, which look like this:\n",
    "Order No Book Title and Author Quantity Price per Item\n",
    "34587 Learning Python, Mark Lutz 4 40.95\n",
    "98762 Programming Python, Mark Lutz 5 56.80\n",
    "77226 Head First Python, Paul Barry 3 32.95\n",
    "88112 Einführung in Python3, Bernd Klein 3 24.99\n",
    "\n",
    "Write a Python program, which returns a list with 2-tuples. Each tuple consists of an order\n",
    "number and the product of the price per items and the quantity. The product should be\n",
    "decreased by RS 10 if the value of the order is smaller than RS 100.00. Write a Python\n",
    "program using lambda and map functions."
   ]
  },
  {
   "cell_type": "code",
   "execution_count": 4,
   "id": "19ca3df4",
   "metadata": {},
   "outputs": [
    {
     "name": "stdout",
     "output_type": "stream",
     "text": [
      "[163.8, 284.0, 68.85000000000001, 44.97]\n"
     ]
    }
   ],
   "source": [
    "order_list = [(34587,4,40.95),\n",
    "             (98762,5,56.80),\n",
    "             (77226,3,32.95),(88112,3,24.99)]\n",
    "calc = lambda order:(order[1]*(order[2]-10)\n",
    "                 if order[1]* order[2]<100 else order[1]* order[2])\n",
    "result = list(map(calc,order_list))\n",
    "print(result)"
   ]
  }
 ],
 "metadata": {
  "kernelspec": {
   "display_name": "Python 3 (ipykernel)",
   "language": "python",
   "name": "python3"
  },
  "language_info": {
   "codemirror_mode": {
    "name": "ipython",
    "version": 3
   },
   "file_extension": ".py",
   "mimetype": "text/x-python",
   "name": "python",
   "nbconvert_exporter": "python",
   "pygments_lexer": "ipython3",
   "version": "3.11.3"
  }
 },
 "nbformat": 4,
 "nbformat_minor": 5
}
